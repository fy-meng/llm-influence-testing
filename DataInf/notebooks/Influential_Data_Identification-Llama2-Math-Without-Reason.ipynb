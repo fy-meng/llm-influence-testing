{
 "cells": [
  {
   "cell_type": "markdown",
   "id": "51542ae2",
   "metadata": {},
   "source": [
    "# Influential data identification - Llama2 - Math - Without - Reason\n",
    "\n",
    "This notebook demonstrates how to efficiently compute the influence functions using DataInf, showing its application to **influential data identification** tasks.\n",
    "\n",
    "- Model: [llama-2-13b-chat](https://huggingface.co/meta-llama/Llama-2-13b-chat-hf) trained on a mix of publicly available online datasets.\n",
    "- Fine-tuning dataset: Synthetic Math Problem (without reasoning) dataset\n",
    "\n",
    "References\n",
    "- `trl` HuggingFace library [[Link]](https://github.com/huggingface/trl).\n",
    "- DataInf is available at this [ArXiv link](https://arxiv.org/abs/2310.00902)."
   ]
  },
  {
   "cell_type": "code",
   "execution_count": 1,
   "id": "759f0a20",
   "metadata": {},
   "outputs": [],
   "source": [
    "import sys\n",
    "sys.path.append('../src')\n",
    "from lora_model import LORAEngineGeneration\n",
    "from influence import IFEngineGeneration\n",
    "\n",
    "import warnings\n",
    "warnings.filterwarnings(\"ignore\")"
   ]
  },
  {
   "cell_type": "markdown",
   "id": "137e0c14",
   "metadata": {},
   "source": [
    "## Fine-tune a model\n",
    "- We fine-tune a llama-2-13b-chat model on the `math problem (without reasoning)` dataset. We use `src/sft_trainer.py`, which is built on HuggingFace's [SFTTrainer](https://github.com/huggingface/trl/blob/main/examples/scripts/sft.py). It will take around 30 minutes."
   ]
  },
  {
   "cell_type": "code",
   "execution_count": 2,
   "id": "7d569f5a",
   "metadata": {},
   "outputs": [],
   "source": [
    "# !python /YOUR-DATAINF-PATH/DataInf/src/sft_trainer.py \\\n",
    "#     --model_name /YOUR-LLAMA-PATH/llama/models_hf/llama-2-13b-chat \\\n",
    "#     --dataset_name /YOUR-DATAINF-PATH/DataInf/datasets/math_without_reason_train.hf \\\n",
    "#     --output_dir /YOUR-DATAINF-PATH/DataInf/models/math_without_reason_13bf \\\n",
    "#     --dataset_text_field text \\\n",
    "#     --load_in_8bit \\\n",
    "#     --use_peft"
   ]
  },
  {
   "cell_type": "markdown",
   "id": "62fdb7d3",
   "metadata": {},
   "source": [
    "## Load a fine-tuned model"
   ]
  },
  {
   "cell_type": "code",
   "execution_count": 3,
   "id": "1b732140",
   "metadata": {},
   "outputs": [
    {
     "name": "stderr",
     "output_type": "stream",
     "text": [
      "You are using the default legacy behaviour of the <class 'transformers.models.llama.tokenization_llama.LlamaTokenizer'>. This is expected, and simply means that the `legacy` (previous) behavior will be used so nothing changes for you. If you want to use the new behaviour, set `legacy=False`. This should only be set if you understand what it means, and thoroughly read the reason why this was added as explained in https://github.com/huggingface/transformers/pull/24565\n"
     ]
    },
    {
     "data": {
      "application/vnd.jupyter.widget-view+json": {
       "model_id": "e546365432a34b1b8e10f847d634eaec",
       "version_major": 2,
       "version_minor": 0
      },
      "text/plain": [
       "Loading checkpoint shards:   0%|          | 0/3 [00:00<?, ?it/s]"
      ]
     },
     "metadata": {},
     "output_type": "display_data"
    }
   ],
   "source": [
    "# Please change the following objects to  \"YOUR-LLAMA-PATH\" and \"YOUR-DATAINF-PATH\"\n",
    "base_path = \"/burg/stats/users/yk3012/projects/llama/models_hf/llama-2-13b-chat\" \n",
    "project_path =\"/burg/home/yk3012/repos/DataInf\" \n",
    "lora_engine = LORAEngineGeneration(base_path=base_path, \n",
    "                                   project_path=project_path,\n",
    "                                   dataset_name='math_without_reason')"
   ]
  },
  {
   "cell_type": "markdown",
   "id": "e6df744c",
   "metadata": {},
   "source": [
    "### Example: model prediction\n",
    "The following prompt has not been seen during the fine-tuning process, although there are many similar addition problems. "
   ]
  },
  {
   "cell_type": "code",
   "execution_count": 4,
   "id": "fef463fb-abf8-41db-ae41-4477b1fc69cb",
   "metadata": {},
   "outputs": [],
   "source": [
    "import torch\n",
    "torch.backends.cuda.enable_mem_efficient_sdp(False)\n",
    "torch.backends.cuda.enable_flash_sdp(False)"
   ]
  },
  {
   "cell_type": "code",
   "execution_count": 5,
   "id": "db75df7c",
   "metadata": {},
   "outputs": [
    {
     "name": "stdout",
     "output_type": "stream",
     "text": [
      "--------------------------------------------------\n",
      "Print Input prompt\n",
      "\n",
      "Emily scored 10 points in the first game, 30 points in the second, 100 in the third, and 20 in the fourth game. What is her total points? Output only the answer.\n",
      "\n",
      "--------------------------------------------------\n",
      "Print Model output\n",
      "\n",
      "Emily scored 10 points in the first game, 30 points in the second, 100 in the third, and 20 in the fourth game. What is her total points? Output only the answer.\n",
      "\n",
      "Answer: 160\n",
      "--------------------------------------------------\n"
     ]
    }
   ],
   "source": [
    "prompt = \"\"\"\n",
    "Emily scored 10 points in the first game, 30 points in the second, 100 in the third, and 20 in the fourth game. What is her total points? Output only the answer.\n",
    "\"\"\"\n",
    "inputs = lora_engine.tokenizer(prompt, return_tensors=\"pt\").to(\"cuda\")\n",
    "\n",
    "# Generate\n",
    "generate_ids = lora_engine.model.generate(input_ids=inputs.input_ids, \n",
    "                                          max_length=128,\n",
    "                                          pad_token_id=lora_engine.tokenizer.eos_token_id)\n",
    "output = lora_engine.tokenizer.batch_decode(\n",
    "    generate_ids, skip_special_tokens=True, clean_up_tokenization_spaces=True\n",
    ")[0]\n",
    "\n",
    "print('-'*50)\n",
    "print('Print Input prompt')\n",
    "print(prompt)\n",
    "print('-'*50)\n",
    "print('Print Model output')\n",
    "print(output)\n",
    "print('-'*50)"
   ]
  },
  {
   "cell_type": "markdown",
   "id": "effb829f",
   "metadata": {},
   "source": [
    "## Compute the gradient\n",
    " - Influence function uses the first-order gradient of a loss function. Here we compute gradients using `compute_gradient`\n",
    " - `tr_grad_dict` has a nested structure of two Python dictionaries. The outer dictionary has `{an index of the training data: a dictionary of gradients}` and the inner dictionary has `{layer name: gradients}`. The `val_grad_dict` has the same structure but for the validationd data points. "
   ]
  },
  {
   "cell_type": "code",
   "execution_count": 6,
   "id": "67d34884",
   "metadata": {},
   "outputs": [
    {
     "name": "stderr",
     "output_type": "stream",
     "text": [
      "Parameter 'function'=<function LORAEngineGeneration.create_tokenized_datasets.<locals>.<lambda> at 0x15544444efc0> of the transform datasets.arrow_dataset.Dataset._map_single couldn't be hashed properly, a random hash was used instead. Make sure your transforms and parameters are serializable with pickle or dill for the dataset fingerprinting and caching to work. If you reuse this transform, the caching mechanism will consider it to be different from the previous calls and recompute everything. This warning is only showed once. Subsequent hashing failures won't be showed.\n"
     ]
    },
    {
     "data": {
      "application/vnd.jupyter.widget-view+json": {
       "model_id": "59c47faf9c264c5b9bebc1803cbabbda",
       "version_major": 2,
       "version_minor": 0
      },
      "text/plain": [
       "Map:   0%|          | 0/900 [00:00<?, ? examples/s]"
      ]
     },
     "metadata": {},
     "output_type": "display_data"
    },
    {
     "data": {
      "application/vnd.jupyter.widget-view+json": {
       "model_id": "8899c8fa9b654a8c96cde96dcbd871c5",
       "version_major": 2,
       "version_minor": 0
      },
      "text/plain": [
       "Map:   0%|          | 0/100 [00:00<?, ? examples/s]"
      ]
     },
     "metadata": {},
     "output_type": "display_data"
    },
    {
     "name": "stderr",
     "output_type": "stream",
     "text": [
      "100%|█████████████████████████████████████████████████████████████████████████████████████████████████████| 900/900 [10:12<00:00,  1.47it/s]\n",
      "100%|█████████████████████████████████████████████████████████████████████████████████████████████████████| 100/100 [01:06<00:00,  1.50it/s]\n"
     ]
    }
   ],
   "source": [
    "tokenized_datasets, collate_fn = lora_engine.create_tokenized_datasets()\n",
    "tr_grad_dict, val_grad_dict = lora_engine.compute_gradient(tokenized_datasets, collate_fn)"
   ]
  },
  {
   "cell_type": "markdown",
   "id": "6f47b2ec",
   "metadata": {},
   "source": [
    "## Compute the influence function\n",
    " - We compute the inverse Hessian vector product first using `compute_hvps()`. With the argument `compute_accurate=True`, the exact influence function value will be computed. (it may take an hour to compute).\n",
    "<!--  - Here, we take a look at the first five validation data points. -->"
   ]
  },
  {
   "cell_type": "code",
   "execution_count": 7,
   "id": "94703c8c",
   "metadata": {},
   "outputs": [
    {
     "name": "stderr",
     "output_type": "stream",
     "text": [
      "100%|█████████████████████████████████████████████████████████████████████████████████████████████████████| 100/100 [39:50<00:00, 23.90s/it]\n"
     ]
    },
    {
     "name": "stdout",
     "output_type": "stream",
     "text": [
      "Computing IF for method:  identity\n",
      "Computing IF for method:  proposed\n"
     ]
    }
   ],
   "source": [
    "influence_engine = IFEngineGeneration()\n",
    "influence_engine.preprocess_gradients(tr_grad_dict, val_grad_dict)\n",
    "influence_engine.compute_hvps()\n",
    "influence_engine.compute_IF()"
   ]
  },
  {
   "cell_type": "markdown",
   "id": "eb6f625e",
   "metadata": {},
   "source": [
    "## Attributes of influence_engine\n",
    "There are a couple of useful attributes in `influence_engine`. For intance, to compare the runtime, one can use `time_dict`."
   ]
  },
  {
   "cell_type": "code",
   "execution_count": 8,
   "id": "7321f6af",
   "metadata": {},
   "outputs": [
    {
     "data": {
      "text/plain": [
       "defaultdict(list,\n",
       "            {'identity': 3.814697265625e-06, 'proposed': 2390.320952653885})"
      ]
     },
     "execution_count": 8,
     "metadata": {},
     "output_type": "execute_result"
    }
   ],
   "source": [
    "influence_engine.time_dict"
   ]
  },
  {
   "cell_type": "code",
   "execution_count": 9,
   "id": "085e0d17",
   "metadata": {},
   "outputs": [
    {
     "data": {
      "text/plain": [
       "dict_keys(['identity', 'proposed'])"
      ]
     },
     "execution_count": 9,
     "metadata": {},
     "output_type": "execute_result"
    }
   ],
   "source": [
    "influence_engine.IF_dict.keys()"
   ]
  },
  {
   "cell_type": "markdown",
   "id": "c06cc0dc",
   "metadata": {},
   "source": [
    "## Application to influential data detection task\n",
    "- We inspect the most and the least influential data points for validation data loss. Here, the most (and the least) influential data points are determined by the absolute value of influence function values.\n",
    "- Why? the least influential data points will have near zero values, which means the training data point does not affect the validation loss. "
   ]
  },
  {
   "cell_type": "code",
   "execution_count": 10,
   "id": "7f588d06",
   "metadata": {},
   "outputs": [],
   "source": [
    "most_influential_data_point_proposed=influence_engine.IF_dict['proposed'].apply(lambda x: x.abs().argmax(), axis=1)\n",
    "least_influential_data_point_proposed=influence_engine.IF_dict['proposed'].apply(lambda x: x.abs().argmin(), axis=1)"
   ]
  },
  {
   "cell_type": "code",
   "execution_count": 11,
   "id": "c9bef98f",
   "metadata": {},
   "outputs": [
    {
     "name": "stdout",
     "output_type": "stream",
     "text": [
      "Validation Sample ID: 21\n",
      " Solve the following math problem. In an aquarium, there are 76 sharks and 70 dolphins. If they bought 10 more sharks, how many sharks would be there in total? -> Answer: 86</s> \n",
      "\n",
      "The most influential training sample: \n",
      " Solve the following math problem. In an aquarium, there are 87 sharks and 44 dolphins. If they bought 7 more sharks, how many sharks would be there in total? -> Answer: 94</s> \n",
      "\n",
      "The least influential training sample: \n",
      " Solve the following math problem. Lisa ate 33 slices of pizza and her brother ate 51 slices from a pizza that originally had 36 slices. How many slices of the pizza are left? -> Answer: -48</s>\n"
     ]
    }
   ],
   "source": [
    "val_id=21\n",
    "print(f'Validation Sample ID: {val_id}\\n', \n",
    "      lora_engine.validation_dataset[val_id]['text'], '\\n')\n",
    "print('The most influential training sample: \\n', \n",
    "      lora_engine.train_dataset[int(most_influential_data_point_proposed.iloc[val_id])]['text'], '\\n')\n",
    "print('The least influential training sample: \\n', \n",
    "      lora_engine.train_dataset[int(least_influential_data_point_proposed.iloc[val_id])]['text'])"
   ]
  },
  {
   "cell_type": "markdown",
   "id": "e7692d6c",
   "metadata": {},
   "source": [
    "# AUC and Recall "
   ]
  },
  {
   "cell_type": "code",
   "execution_count": 12,
   "id": "39b4915e",
   "metadata": {},
   "outputs": [
    {
     "name": "stdout",
     "output_type": "stream",
     "text": [
      "identity AUC: 0.770/0.174\n",
      "proposed AUC: 1.000/0.000\n"
     ]
    }
   ],
   "source": [
    "import numpy as np\n",
    "import pandas as pd\n",
    "from sklearn.metrics import roc_auc_score\n",
    "\n",
    "identity_df=influence_engine.IF_dict['identity']\n",
    "proposed_df=influence_engine.IF_dict['proposed']\n",
    "\n",
    "n_train, n_val = 900, 100\n",
    "n_sample_per_class = 90 \n",
    "n_class = 10\n",
    "\n",
    "identity_auc_list, proposed_auc_list=[], []\n",
    "for i in range(n_val):\n",
    "    gt_array=np.zeros(n_train)\n",
    "    gt_array[(i//n_class)*n_sample_per_class:((i//n_class)+1)*n_sample_per_class]=1\n",
    "    \n",
    "    # The influence function is anticipated to have a big negative value when its class equals to a validation data point. \n",
    "    # This is because a data point with the same class is likely to be more helpful in minimizing the validation loss.\n",
    "    # Thus, we multiply the influence function value by -1 to account for alignment with the gt_array. \n",
    "    identity_auc_list.append(roc_auc_score(gt_array, -(identity_df.iloc[i,:].to_numpy())))\n",
    "    proposed_auc_list.append(roc_auc_score(gt_array, -(proposed_df.iloc[i,:].to_numpy())))\n",
    "    \n",
    "print(f'identity AUC: {np.mean(identity_auc_list):.3f}/{np.std(identity_auc_list):.3f}')\n",
    "print(f'proposed AUC: {np.mean(proposed_auc_list):.3f}/{np.std(proposed_auc_list):.3f}')"
   ]
  },
  {
   "cell_type": "code",
   "execution_count": 13,
   "id": "baa20253",
   "metadata": {},
   "outputs": [
    {
     "name": "stdout",
     "output_type": "stream",
     "text": [
      "identity Recall: 0.258/0.388\n",
      "proposed Recall: 0.999/0.006\n"
     ]
    }
   ],
   "source": [
    "# Recall calculations\n",
    "identity_recall_list, proposed_recall_list=[], []\n",
    "for i in range(n_val):\n",
    "    correct_label = i // 10\n",
    "\n",
    "    # Similar to AUC computation, we consider the first 90 data points with the smallest influence function values \n",
    "    # These data points with the smallest influence function values likely have the same class with the validation data point.\n",
    "    sorted_labels = np.argsort(identity_df.iloc[i].values)// 90 \n",
    "    recall_identity = np.count_nonzero(sorted_labels[0:90] == correct_label) / 90.0\n",
    "    identity_recall_list.append(recall_identity)\n",
    "    \n",
    "    sorted_labels = np.argsort(proposed_df.iloc[i].values)// 90 \n",
    "    recall_proposed = np.count_nonzero(sorted_labels[0:90] == correct_label) / 90.0\n",
    "    proposed_recall_list.append(recall_proposed)\n",
    "    \n",
    "print(f'identity Recall: {np.mean(identity_recall_list):.3f}/{np.std(identity_recall_list):.3f}')\n",
    "print(f'proposed Recall: {np.mean(proposed_recall_list):.3f}/{np.std(proposed_recall_list):.3f}')"
   ]
  },
  {
   "cell_type": "code",
   "execution_count": null,
   "id": "ae1da851",
   "metadata": {},
   "outputs": [],
   "source": []
  },
  {
   "cell_type": "code",
   "execution_count": null,
   "id": "c0f4fab8",
   "metadata": {},
   "outputs": [],
   "source": []
  }
 ],
 "metadata": {
  "kernelspec": {
   "display_name": "Python 3 (ipykernel)",
   "language": "python",
   "name": "python3"
  },
  "language_info": {
   "codemirror_mode": {
    "name": "ipython",
    "version": 3
   },
   "file_extension": ".py",
   "mimetype": "text/x-python",
   "name": "python",
   "nbconvert_exporter": "python",
   "pygments_lexer": "ipython3",
   "version": "3.11.5"
  }
 },
 "nbformat": 4,
 "nbformat_minor": 5
}
