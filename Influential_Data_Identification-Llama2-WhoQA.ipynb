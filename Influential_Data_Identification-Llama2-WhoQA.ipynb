{
 "cells": [
  {
   "cell_type": "markdown",
   "id": "51542ae2",
   "metadata": {},
   "source": [
    "# Influential data identification - Llama2 - Math - Reason\n",
    "\n",
    "This notebook demonstrates how to efficiently compute the influence functions using DataInf, showing its application to **influential data identification** tasks.\n",
    "\n",
    "- Model: [llama-2-13b-chat](https://huggingface.co/meta-llama/Llama-2-13b-chat-hf) trained on a mix of publicly available online datasets.\n",
    "- Fine-tuning dataset: Synthetic Math Problem (with reasoning) dataset\n",
    "\n",
    "References\n",
    "- `trl` HuggingFace library [[Link]](https://github.com/huggingface/trl).\n",
    "- DataInf is available at this [ArXiv link](https://arxiv.org/abs/2310.00902)."
   ]
  },
  {
   "cell_type": "code",
   "execution_count": 72,
   "id": "759f0a20",
   "metadata": {},
   "outputs": [
    {
     "name": "stdout",
     "output_type": "stream",
     "text": [
      "The autoreload extension is already loaded. To reload it, use:\n",
      "  %reload_ext autoreload\n"
     ]
    }
   ],
   "source": [
    "%load_ext autoreload\n",
    "%autoreload 2\n",
    "\n",
    "import sys\n",
    "sys.path.append('../src')\n",
    "from lora_model import LORAEngineGeneration\n",
    "from influence import IFEngineGeneration\n",
    "\n",
    "import numpy as np\n",
    "\n",
    "import warnings\n",
    "warnings.filterwarnings(\"ignore\")"
   ]
  },
  {
   "cell_type": "markdown",
   "id": "137e0c14",
   "metadata": {},
   "source": [
    "## Fine-tune a model\n",
    "- We fine-tune a llama-2-13b-chat model on the `math problem (with reasoning)` dataset. We use `src/sft_trainer.py`, which is built on HuggingFace's [SFTTrainer](https://github.com/huggingface/trl/blob/main/examples/scripts/sft.py). It will take around 30 minutes.\n",
    "- For the `sentence transformation` and `math problem (without reasoning)` datasets, please replace `math_with_reason_train` with `grammars_train` or `math_without_reason_train`."
   ]
  },
  {
   "cell_type": "code",
   "execution_count": null,
   "id": "7d569f5a",
   "metadata": {},
   "outputs": [],
   "source": [
    "!python ../src/sft_trainer.py \\\n",
    "    --model_name meta-llama/Llama-2-13b-chat-hf \\\n",
    "    --dataset_name datasets/math_with_reason_train.hf \\\n",
    "    --output_dir models/math_with_reason_13bf \\\n",
    "    --dataset_text_field text \\\n",
    "    --load_in_8bit \\\n",
    "    --use_peft\n"
   ]
  },
  {
   "cell_type": "markdown",
   "id": "62fdb7d3",
   "metadata": {},
   "source": [
    "## Load a fine-tuned model"
   ]
  },
  {
   "cell_type": "code",
   "execution_count": 41,
   "id": "1b732140",
   "metadata": {},
   "outputs": [
    {
     "name": "stderr",
     "output_type": "stream",
     "text": [
      "`low_cpu_mem_usage` was None, now default to True since model is quantized.\n"
     ]
    }
   ],
   "source": [
    "# Please change the following objects to  \"YOUR-LLAMA-PATH\" and \"YOUR-DATAINF-PATH\"\n",
    "base_path = \"/home/fymeng/influence/models/whoqa_llama_1B\" \n",
    "project_path =\"/home/fymeng/influence\" \n",
    "lora_engine = LORAEngineGeneration(base_path=base_path, \n",
    "                                   project_path=project_path,\n",
    "                                   dataset_name='whoqa')"
   ]
  },
  {
   "cell_type": "markdown",
   "id": "e6df744c",
   "metadata": {},
   "source": [
    "### Example: model prediction\n",
    "The following prompt has not been seen during the fine-tuning process, although there are many similar addition problems. "
   ]
  },
  {
   "cell_type": "code",
   "execution_count": null,
   "id": "82cdd339-ad2f-481a-b6ef-2be458e82669",
   "metadata": {},
   "outputs": [],
   "source": []
  },
  {
   "cell_type": "code",
   "execution_count": 3,
   "id": "20cdd18c-09b1-491e-8818-0dd2d690e438",
   "metadata": {},
   "outputs": [],
   "source": [
    "import torch\n",
    "torch.backends.cuda.enable_mem_efficient_sdp(False)\n",
    "torch.backends.cuda.enable_flash_sdp(False)"
   ]
  },
  {
   "cell_type": "code",
   "execution_count": 184,
   "id": "db75df7c",
   "metadata": {},
   "outputs": [
    {
     "name": "stdout",
     "output_type": "stream",
     "text": [
      "--------------------------------------------------\n",
      "Print Input prompt\n",
      "What profession or job is associated with Zhang Lei?\n",
      "--------------------------------------------------\n",
      "Print Model output\n",
      "Context: \n",
      "Zhang Lei is a Chinese former international table tennis player.\n",
      "\n",
      "He won two silver medal's at the 1993 World Table Tennis Championships in the team event and in the men's doubles with Ma Wenge.\n",
      "\n",
      "\n",
      "Question: What profession or job is associated with Zhang Lei?\n",
      "Answer: \n",
      "Zhang Lei is a Chinese former international table tennis player.\n",
      "--------------------------------------------------\n"
     ]
    }
   ],
   "source": [
    "context = \"\"\"\n",
    "Zhang Lei is a Chinese former international table tennis player.\\n\\nHe won two silver medal's at the 1993 World Table Tennis Championships in the team event and in the men's doubles with Ma Wenge.\n",
    "\"\"\"\n",
    "prompt = \"What profession or job is associated with Zhang Lei?\"\n",
    "\n",
    "input_text = f\"Context: {context}\\n\\nQuestion: {question}\\nAnswer:\"\n",
    "inputs = lora_engine.tokenizer(input_text, return_tensors=\"pt\").to(\"cuda\")\n",
    "generate_ids = lora_engine.model.generate(input_ids=inputs.input_ids, \n",
    "                                          max_new_tokens=100,\n",
    "                                          pad_token_id=lora_engine.tokenizer.eos_token_id)\n",
    "output = lora_engine.tokenizer.batch_decode(\n",
    "    generate_ids, skip_special_tokens=True, clean_up_tokenization_spaces=True\n",
    ")[0]\n",
    "\n",
    "print('-'*50)\n",
    "print('Print Input prompt')\n",
    "print(prompt)\n",
    "print('-'*50)\n",
    "print('Print Model output')\n",
    "print(output)\n",
    "print('-'*50)"
   ]
  },
  {
   "cell_type": "markdown",
   "id": "effb829f",
   "metadata": {},
   "source": [
    "## Compute the gradient\n",
    " - Influence function uses the first-order gradient of a loss function. Here we compute gradients using `compute_gradient`\n",
    " - `tr_grad_dict` has a nested structure of two Python dictionaries. The outer dictionary has `{an index of the training data: a dictionary of gradients}` and the inner dictionary has `{layer name: gradients}`. The `val_grad_dict` has the same structure but for the validationd data points. "
   ]
  },
  {
   "cell_type": "code",
   "execution_count": 46,
   "id": "67d34884",
   "metadata": {},
   "outputs": [
    {
     "data": {
      "application/vnd.jupyter.widget-view+json": {
       "model_id": "f99fd7ed4af04304b61dfafe9096d98f",
       "version_major": 2,
       "version_minor": 0
      },
      "text/plain": [
       "Map:   0%|          | 0/5868 [00:00<?, ? examples/s]"
      ]
     },
     "metadata": {},
     "output_type": "display_data"
    },
    {
     "data": {
      "application/vnd.jupyter.widget-view+json": {
       "model_id": "7325e89d27f748ddbbcd6f2be32e6c5e",
       "version_major": 2,
       "version_minor": 0
      },
      "text/plain": [
       "Map:   0%|          | 0/1467 [00:00<?, ? examples/s]"
      ]
     },
     "metadata": {},
     "output_type": "display_data"
    },
    {
     "name": "stderr",
     "output_type": "stream",
     "text": [
      "You're using a PreTrainedTokenizerFast tokenizer. Please note that with a fast tokenizer, using the `__call__` method is faster than using a method to encode the text followed by a call to the `pad` method to get a padded encoding.\n",
      "100%|██████████████████████████████████████████████████████████████████████████████████████████████████████████████████| 5868/5868 [11:32<00:00,  8.48it/s]\n",
      "100%|██████████████████████████████████████████████████████████████████████████████████████████████████████████████████| 1467/1467 [02:49<00:00,  8.64it/s]\n"
     ]
    }
   ],
   "source": [
    "tokenized_datasets, collate_fn = lora_engine.create_tokenized_datasets()\n",
    "tr_grad_dict, val_grad_dict = lora_engine.compute_gradient(tokenized_datasets, collate_fn)"
   ]
  },
  {
   "cell_type": "markdown",
   "id": "6f47b2ec",
   "metadata": {},
   "source": [
    "## Compute the influence function\n",
    " - We compute the inverse Hessian vector product first using `compute_hvps()`. With the argument `compute_accurate=True`, the exact influence function value will be computed. (it may take an hour to compute).\n",
    "<!--  - Here, we take a look at the first five validation data points. -->"
   ]
  },
  {
   "cell_type": "code",
   "execution_count": 57,
   "id": "94703c8c",
   "metadata": {},
   "outputs": [],
   "source": [
    "influence_engine = IFEngineGeneration()\n",
    "influence_engine.preprocess_gradients(tr_grad_dict, val_grad_dict)"
   ]
  },
  {
   "cell_type": "code",
   "execution_count": 58,
   "id": "611c89cd-9c38-4797-9d2f-cc043f489397",
   "metadata": {},
   "outputs": [],
   "source": [
    "influence_engine.compute_hvp_identity()"
   ]
  },
  {
   "cell_type": "code",
   "execution_count": null,
   "id": "1e10217c-5d0b-467e-8577-d9e691cd69db",
   "metadata": {},
   "outputs": [],
   "source": []
  },
  {
   "cell_type": "code",
   "execution_count": null,
   "id": "b95cd267-207a-4c93-98d0-b76f9cbbb588",
   "metadata": {},
   "outputs": [],
   "source": []
  },
  {
   "cell_type": "code",
   "execution_count": null,
   "id": "e9b9bbb3-f255-4ea1-9187-0a1849f4d3b0",
   "metadata": {},
   "outputs": [],
   "source": [
    "influence_engine.compute_IF()"
   ]
  },
  {
   "cell_type": "markdown",
   "id": "eb6f625e",
   "metadata": {},
   "source": [
    "## Attributes of influence_engine\n",
    "There are a couple of useful attributes in `influence_engine`. For intance, to compare the runtime, one can use `time_dict`."
   ]
  },
  {
   "cell_type": "code",
   "execution_count": 60,
   "id": "7321f6af",
   "metadata": {},
   "outputs": [
    {
     "data": {
      "text/plain": [
       "defaultdict(list, {'identity': 4.1484832763671875e-05})"
      ]
     },
     "execution_count": 60,
     "metadata": {},
     "output_type": "execute_result"
    }
   ],
   "source": [
    "influence_engine.time_dict"
   ]
  },
  {
   "cell_type": "code",
   "execution_count": 61,
   "id": "085e0d17",
   "metadata": {},
   "outputs": [
    {
     "data": {
      "text/plain": [
       "dict_keys(['identity'])"
      ]
     },
     "execution_count": 61,
     "metadata": {},
     "output_type": "execute_result"
    }
   ],
   "source": [
    "influence_engine.IF_dict.keys()"
   ]
  },
  {
   "cell_type": "markdown",
   "id": "c06cc0dc",
   "metadata": {},
   "source": [
    "## Application to influential data detection task\n",
    "- We inspect the most and the least influential data points for validation data loss. Here, the most (and the least) influential data points are determined by the absolute value of influence function values.\n",
    "- Why? the least influential data points will have near zero values, which means the training data point does not affect the validation loss. "
   ]
  },
  {
   "cell_type": "code",
   "execution_count": 173,
   "id": "7f588d06",
   "metadata": {},
   "outputs": [
    {
     "data": {
      "text/html": [
       "<div>\n",
       "<style scoped>\n",
       "    .dataframe tbody tr th:only-of-type {\n",
       "        vertical-align: middle;\n",
       "    }\n",
       "\n",
       "    .dataframe tbody tr th {\n",
       "        vertical-align: top;\n",
       "    }\n",
       "\n",
       "    .dataframe thead th {\n",
       "        text-align: right;\n",
       "    }\n",
       "</style>\n",
       "<table border=\"1\" class=\"dataframe\">\n",
       "  <thead>\n",
       "    <tr style=\"text-align: right;\">\n",
       "      <th></th>\n",
       "      <th>0</th>\n",
       "      <th>1</th>\n",
       "      <th>2</th>\n",
       "      <th>3</th>\n",
       "      <th>4</th>\n",
       "      <th>5</th>\n",
       "      <th>6</th>\n",
       "      <th>7</th>\n",
       "      <th>8</th>\n",
       "      <th>9</th>\n",
       "      <th>...</th>\n",
       "      <th>5858</th>\n",
       "      <th>5859</th>\n",
       "      <th>5860</th>\n",
       "      <th>5861</th>\n",
       "      <th>5862</th>\n",
       "      <th>5863</th>\n",
       "      <th>5864</th>\n",
       "      <th>5865</th>\n",
       "      <th>5866</th>\n",
       "      <th>5867</th>\n",
       "    </tr>\n",
       "  </thead>\n",
       "  <tbody>\n",
       "    <tr>\n",
       "      <th>0</th>\n",
       "      <td>-241.567383</td>\n",
       "      <td>-238.165894</td>\n",
       "      <td>-125.414108</td>\n",
       "      <td>-324.356476</td>\n",
       "      <td>-128.414124</td>\n",
       "      <td>-228.784683</td>\n",
       "      <td>-210.488159</td>\n",
       "      <td>-132.320160</td>\n",
       "      <td>-228.784683</td>\n",
       "      <td>-153.539368</td>\n",
       "      <td>...</td>\n",
       "      <td>-229.199142</td>\n",
       "      <td>-316.216492</td>\n",
       "      <td>-171.784744</td>\n",
       "      <td>-90.856247</td>\n",
       "      <td>-139.841568</td>\n",
       "      <td>-191.624756</td>\n",
       "      <td>-191.624756</td>\n",
       "      <td>-300.496185</td>\n",
       "      <td>-320.218323</td>\n",
       "      <td>-310.454895</td>\n",
       "    </tr>\n",
       "    <tr>\n",
       "      <th>1</th>\n",
       "      <td>-260.227142</td>\n",
       "      <td>-236.213501</td>\n",
       "      <td>-135.281769</td>\n",
       "      <td>-355.200012</td>\n",
       "      <td>-139.230331</td>\n",
       "      <td>-244.231079</td>\n",
       "      <td>-227.089905</td>\n",
       "      <td>-143.317276</td>\n",
       "      <td>-244.231079</td>\n",
       "      <td>-161.033783</td>\n",
       "      <td>...</td>\n",
       "      <td>-248.633499</td>\n",
       "      <td>-343.092773</td>\n",
       "      <td>-181.529724</td>\n",
       "      <td>-98.304916</td>\n",
       "      <td>-150.956161</td>\n",
       "      <td>-197.673615</td>\n",
       "      <td>-197.673615</td>\n",
       "      <td>-329.218292</td>\n",
       "      <td>-321.267975</td>\n",
       "      <td>-337.530701</td>\n",
       "    </tr>\n",
       "    <tr>\n",
       "      <th>2</th>\n",
       "      <td>-305.775024</td>\n",
       "      <td>-283.190430</td>\n",
       "      <td>-145.901230</td>\n",
       "      <td>-383.207977</td>\n",
       "      <td>-149.935394</td>\n",
       "      <td>-267.926483</td>\n",
       "      <td>-235.007431</td>\n",
       "      <td>-151.547470</td>\n",
       "      <td>-267.926483</td>\n",
       "      <td>-202.296143</td>\n",
       "      <td>...</td>\n",
       "      <td>-235.041336</td>\n",
       "      <td>-363.121521</td>\n",
       "      <td>-222.087601</td>\n",
       "      <td>-106.946060</td>\n",
       "      <td>-161.079178</td>\n",
       "      <td>-189.740326</td>\n",
       "      <td>-189.740326</td>\n",
       "      <td>-355.520660</td>\n",
       "      <td>-345.565674</td>\n",
       "      <td>-357.932739</td>\n",
       "    </tr>\n",
       "    <tr>\n",
       "      <th>3</th>\n",
       "      <td>-253.318893</td>\n",
       "      <td>-230.869507</td>\n",
       "      <td>-131.209351</td>\n",
       "      <td>-341.352661</td>\n",
       "      <td>-135.657654</td>\n",
       "      <td>-235.785721</td>\n",
       "      <td>-219.992645</td>\n",
       "      <td>-137.681610</td>\n",
       "      <td>-235.785721</td>\n",
       "      <td>-158.313370</td>\n",
       "      <td>...</td>\n",
       "      <td>-238.086884</td>\n",
       "      <td>-330.098450</td>\n",
       "      <td>-177.613602</td>\n",
       "      <td>-95.966980</td>\n",
       "      <td>-146.619568</td>\n",
       "      <td>-197.110687</td>\n",
       "      <td>-197.110687</td>\n",
       "      <td>-318.716461</td>\n",
       "      <td>-310.829987</td>\n",
       "      <td>-324.245850</td>\n",
       "    </tr>\n",
       "    <tr>\n",
       "      <th>4</th>\n",
       "      <td>-321.883270</td>\n",
       "      <td>-287.050934</td>\n",
       "      <td>-149.008759</td>\n",
       "      <td>-389.982910</td>\n",
       "      <td>-154.315872</td>\n",
       "      <td>-269.621368</td>\n",
       "      <td>-241.474411</td>\n",
       "      <td>-155.716507</td>\n",
       "      <td>-269.621368</td>\n",
       "      <td>-203.493805</td>\n",
       "      <td>...</td>\n",
       "      <td>-240.788162</td>\n",
       "      <td>-371.324524</td>\n",
       "      <td>-224.574844</td>\n",
       "      <td>-109.403961</td>\n",
       "      <td>-166.101242</td>\n",
       "      <td>-196.680908</td>\n",
       "      <td>-196.680908</td>\n",
       "      <td>-362.600281</td>\n",
       "      <td>-352.098114</td>\n",
       "      <td>-368.321289</td>\n",
       "    </tr>\n",
       "    <tr>\n",
       "      <th>5</th>\n",
       "      <td>-224.823608</td>\n",
       "      <td>-211.800430</td>\n",
       "      <td>-110.076912</td>\n",
       "      <td>-276.243683</td>\n",
       "      <td>-111.770332</td>\n",
       "      <td>-198.958099</td>\n",
       "      <td>-169.892456</td>\n",
       "      <td>-111.555557</td>\n",
       "      <td>-198.958099</td>\n",
       "      <td>-157.774704</td>\n",
       "      <td>...</td>\n",
       "      <td>-173.780106</td>\n",
       "      <td>-262.677460</td>\n",
       "      <td>-175.916016</td>\n",
       "      <td>-81.741028</td>\n",
       "      <td>-119.839973</td>\n",
       "      <td>-140.744141</td>\n",
       "      <td>-140.744141</td>\n",
       "      <td>-261.566742</td>\n",
       "      <td>-253.902161</td>\n",
       "      <td>-262.436310</td>\n",
       "    </tr>\n",
       "    <tr>\n",
       "      <th>6</th>\n",
       "      <td>-375.349030</td>\n",
       "      <td>-348.761658</td>\n",
       "      <td>-184.374100</td>\n",
       "      <td>-543.265991</td>\n",
       "      <td>-192.371597</td>\n",
       "      <td>-374.038727</td>\n",
       "      <td>-306.690765</td>\n",
       "      <td>-192.332855</td>\n",
       "      <td>-374.038727</td>\n",
       "      <td>-232.897110</td>\n",
       "      <td>...</td>\n",
       "      <td>-317.229950</td>\n",
       "      <td>-521.076233</td>\n",
       "      <td>-264.448059</td>\n",
       "      <td>-132.350220</td>\n",
       "      <td>-205.539764</td>\n",
       "      <td>-252.362991</td>\n",
       "      <td>-252.362991</td>\n",
       "      <td>-504.726166</td>\n",
       "      <td>-493.750519</td>\n",
       "      <td>-519.489441</td>\n",
       "    </tr>\n",
       "    <tr>\n",
       "      <th>7</th>\n",
       "      <td>-228.838135</td>\n",
       "      <td>-207.003052</td>\n",
       "      <td>-122.774147</td>\n",
       "      <td>-296.476593</td>\n",
       "      <td>-127.946602</td>\n",
       "      <td>-207.702515</td>\n",
       "      <td>-369.854797</td>\n",
       "      <td>-129.616043</td>\n",
       "      <td>-207.702515</td>\n",
       "      <td>-145.339859</td>\n",
       "      <td>...</td>\n",
       "      <td>-194.751755</td>\n",
       "      <td>-290.215424</td>\n",
       "      <td>-162.467819</td>\n",
       "      <td>-91.371742</td>\n",
       "      <td>-135.468979</td>\n",
       "      <td>-162.018280</td>\n",
       "      <td>-162.018280</td>\n",
       "      <td>-278.731995</td>\n",
       "      <td>-273.773621</td>\n",
       "      <td>-284.174072</td>\n",
       "    </tr>\n",
       "    <tr>\n",
       "      <th>8</th>\n",
       "      <td>-370.118073</td>\n",
       "      <td>-342.076416</td>\n",
       "      <td>-183.032516</td>\n",
       "      <td>-535.676941</td>\n",
       "      <td>-190.308167</td>\n",
       "      <td>-369.628082</td>\n",
       "      <td>-298.785889</td>\n",
       "      <td>-190.081818</td>\n",
       "      <td>-369.628082</td>\n",
       "      <td>-235.117050</td>\n",
       "      <td>...</td>\n",
       "      <td>-312.723663</td>\n",
       "      <td>-511.312622</td>\n",
       "      <td>-263.543854</td>\n",
       "      <td>-132.606628</td>\n",
       "      <td>-202.905701</td>\n",
       "      <td>-248.894455</td>\n",
       "      <td>-248.894455</td>\n",
       "      <td>-502.093231</td>\n",
       "      <td>-482.326813</td>\n",
       "      <td>-509.133453</td>\n",
       "    </tr>\n",
       "    <tr>\n",
       "      <th>9</th>\n",
       "      <td>-272.532562</td>\n",
       "      <td>-255.240311</td>\n",
       "      <td>-137.094193</td>\n",
       "      <td>-384.043549</td>\n",
       "      <td>-141.682556</td>\n",
       "      <td>-290.920563</td>\n",
       "      <td>-220.144608</td>\n",
       "      <td>-141.465271</td>\n",
       "      <td>-290.920563</td>\n",
       "      <td>-184.913696</td>\n",
       "      <td>...</td>\n",
       "      <td>-229.291504</td>\n",
       "      <td>-370.973694</td>\n",
       "      <td>-201.168106</td>\n",
       "      <td>-99.998291</td>\n",
       "      <td>-150.585281</td>\n",
       "      <td>-183.268204</td>\n",
       "      <td>-183.268204</td>\n",
       "      <td>-363.251434</td>\n",
       "      <td>-354.508728</td>\n",
       "      <td>-369.060913</td>\n",
       "    </tr>\n",
       "  </tbody>\n",
       "</table>\n",
       "<p>10 rows × 5868 columns</p>\n",
       "</div>"
      ],
      "text/plain": [
       "         0           1           2           3           4           5     \\\n",
       "0 -241.567383 -238.165894 -125.414108 -324.356476 -128.414124 -228.784683   \n",
       "1 -260.227142 -236.213501 -135.281769 -355.200012 -139.230331 -244.231079   \n",
       "2 -305.775024 -283.190430 -145.901230 -383.207977 -149.935394 -267.926483   \n",
       "3 -253.318893 -230.869507 -131.209351 -341.352661 -135.657654 -235.785721   \n",
       "4 -321.883270 -287.050934 -149.008759 -389.982910 -154.315872 -269.621368   \n",
       "5 -224.823608 -211.800430 -110.076912 -276.243683 -111.770332 -198.958099   \n",
       "6 -375.349030 -348.761658 -184.374100 -543.265991 -192.371597 -374.038727   \n",
       "7 -228.838135 -207.003052 -122.774147 -296.476593 -127.946602 -207.702515   \n",
       "8 -370.118073 -342.076416 -183.032516 -535.676941 -190.308167 -369.628082   \n",
       "9 -272.532562 -255.240311 -137.094193 -384.043549 -141.682556 -290.920563   \n",
       "\n",
       "         6           7           8           9     ...        5858  \\\n",
       "0 -210.488159 -132.320160 -228.784683 -153.539368  ... -229.199142   \n",
       "1 -227.089905 -143.317276 -244.231079 -161.033783  ... -248.633499   \n",
       "2 -235.007431 -151.547470 -267.926483 -202.296143  ... -235.041336   \n",
       "3 -219.992645 -137.681610 -235.785721 -158.313370  ... -238.086884   \n",
       "4 -241.474411 -155.716507 -269.621368 -203.493805  ... -240.788162   \n",
       "5 -169.892456 -111.555557 -198.958099 -157.774704  ... -173.780106   \n",
       "6 -306.690765 -192.332855 -374.038727 -232.897110  ... -317.229950   \n",
       "7 -369.854797 -129.616043 -207.702515 -145.339859  ... -194.751755   \n",
       "8 -298.785889 -190.081818 -369.628082 -235.117050  ... -312.723663   \n",
       "9 -220.144608 -141.465271 -290.920563 -184.913696  ... -229.291504   \n",
       "\n",
       "         5859        5860        5861        5862        5863        5864  \\\n",
       "0 -316.216492 -171.784744  -90.856247 -139.841568 -191.624756 -191.624756   \n",
       "1 -343.092773 -181.529724  -98.304916 -150.956161 -197.673615 -197.673615   \n",
       "2 -363.121521 -222.087601 -106.946060 -161.079178 -189.740326 -189.740326   \n",
       "3 -330.098450 -177.613602  -95.966980 -146.619568 -197.110687 -197.110687   \n",
       "4 -371.324524 -224.574844 -109.403961 -166.101242 -196.680908 -196.680908   \n",
       "5 -262.677460 -175.916016  -81.741028 -119.839973 -140.744141 -140.744141   \n",
       "6 -521.076233 -264.448059 -132.350220 -205.539764 -252.362991 -252.362991   \n",
       "7 -290.215424 -162.467819  -91.371742 -135.468979 -162.018280 -162.018280   \n",
       "8 -511.312622 -263.543854 -132.606628 -202.905701 -248.894455 -248.894455   \n",
       "9 -370.973694 -201.168106  -99.998291 -150.585281 -183.268204 -183.268204   \n",
       "\n",
       "         5865        5866        5867  \n",
       "0 -300.496185 -320.218323 -310.454895  \n",
       "1 -329.218292 -321.267975 -337.530701  \n",
       "2 -355.520660 -345.565674 -357.932739  \n",
       "3 -318.716461 -310.829987 -324.245850  \n",
       "4 -362.600281 -352.098114 -368.321289  \n",
       "5 -261.566742 -253.902161 -262.436310  \n",
       "6 -504.726166 -493.750519 -519.489441  \n",
       "7 -278.731995 -273.773621 -284.174072  \n",
       "8 -502.093231 -482.326813 -509.133453  \n",
       "9 -363.251434 -354.508728 -369.060913  \n",
       "\n",
       "[10 rows x 5868 columns]"
      ]
     },
     "execution_count": 173,
     "metadata": {},
     "output_type": "execute_result"
    }
   ],
   "source": [
    "# most_influential_data_point_proposed=influence_engine.IF_dict['proposed'].apply(lambda x: x.abs().argmax(), axis=1)\n",
    "# least_influential_data_point_proposed=influence_engine.IF_dict['proposed'].apply(lambda x: x.abs().argmin(), axis=1)\n",
    "influence_engine.IF_dict['identity']"
   ]
  },
  {
   "cell_type": "code",
   "execution_count": null,
   "id": "7df85a2c-e6b4-4e75-8d19-b300a4f219ec",
   "metadata": {},
   "outputs": [
    {
     "name": "stderr",
     "output_type": "stream",
     "text": [
      " 72%|███████████████████████████████████████████████████████████████████████████████▋                              | 1063/1467 [7:16:58<2:41:40, 24.01s/it]"
     ]
    }
   ],
   "source": [
    "influence_engine.compute_hvp_proposed()"
   ]
  },
  {
   "cell_type": "code",
   "execution_count": 189,
   "id": "c9bef98f",
   "metadata": {},
   "outputs": [
    {
     "name": "stdout",
     "output_type": "stream",
     "text": [
      "Validation Sample ID: 0\n",
      " {'prompt': 'What profession or job is associated with Zhang Lei?', 'context': \"Zhang Lei is a Chinese former international table tennis player.\\n\\nHe won two silver medal's at the 1993 World Table Tennis Championships in the team event and in the men's doubles with Ma Wenge.\", 'answer': 'table tennis athlete', '__index_level_0__': 996} \n",
      "\n",
      "==== The most influential training samples: ====\n",
      "Q: Can you describe the typical work or function of László Szabó?\n",
      "A: movie director\n",
      "\n",
      "Q: Identify the common occupation associated with László Szabó.\n",
      "A: soccer player\n",
      "\n",
      "Q: What profession or job is associated with László Szabó?\n",
      "A: screenplay writer\n",
      "\n",
      "Q: Can you describe the typical work or function of Kim Min-seok?\n",
      "A: figure skater\n",
      "\n",
      "Q: What is the  occupation of László Szabó?\n",
      "A: football player\n",
      "\n",
      "==== The least influential training samples: ====\n",
      "Q: Can you describe the typical work or function of László Szabó?\n",
      "A: movie director\n",
      "\n",
      "Q: What is Thomas Turner's occupation?\n",
      "A: potter\n",
      "\n",
      "Q: What is Michael Turner's occupation?\n",
      "A: comic book creator\n",
      "\n",
      "Q: What is Michael Phillips's occupation?\n",
      "A: authors\n",
      "\n",
      "Q: What is Li Yang's occupation?\n",
      "A: association football player\n",
      "\n"
     ]
    }
   ],
   "source": [
    "val_id = 0\n",
    "print(f'Validation Sample ID: {val_id}\\n', \n",
    "      lora_engine.validation_dataset[val_id], '\\n')\n",
    "\n",
    "influences = influence_engine.IF_dict['identity'].loc[val_id]\n",
    "unique_if = np.unique(influences)\n",
    "_idx = np.argsort(influences)\n",
    "idx = []\n",
    "i = 0\n",
    "prev = None\n",
    "while i < len(_idx):\n",
    "    if influences[_idx[i]] != prev:\n",
    "        idx.append(int(_idx[i]))\n",
    "        prev = influences[_idx[i]]\n",
    "    i += 1\n",
    "idx = idx[::-1]\n",
    "    \n",
    "\n",
    "print('==== The most influential training samples: ====')\n",
    "for i in range(5):\n",
    "    print('Q:', lora_engine.train_dataset[int(idx[i])]['prompt'])\n",
    "    print('A:', lora_engine.train_dataset[int(idx[i])]['answer'])\n",
    "    print()\n",
    "\n",
    "print('==== The least influential training samples: ====')\n",
    "for i in range(5):\n",
    "    print('Q:', lora_engine.train_dataset[int(idx[-i])]['prompt'])\n",
    "    print('A:', lora_engine.train_dataset[int(idx[-i])]['answer'])\n",
    "    print()\n",
    "\n",
    "# print('The most influential training sample: \\n', \n",
    "#       lora_engine.train_dataset[int(most_influential_data_point_proposed.iloc[val_id])]['text'], '\\n')\n",
    "# print('The least influential training sample: \\n', \n",
    "#       lora_engine.train_dataset[int(least_influential_data_point_proposed.iloc[val_id])]['text'])"
   ]
  },
  {
   "cell_type": "code",
   "execution_count": null,
   "id": "210beeb0-b284-4c06-a0ac-b9bd3cfe2305",
   "metadata": {},
   "outputs": [],
   "source": []
  },
  {
   "cell_type": "code",
   "execution_count": null,
   "id": "7d362a94-d157-4ee1-80dc-71c82d125c28",
   "metadata": {},
   "outputs": [],
   "source": []
  },
  {
   "cell_type": "code",
   "execution_count": null,
   "id": "6a4ec29e-e31e-4de4-b03b-3840aaf2b556",
   "metadata": {},
   "outputs": [],
   "source": []
  },
  {
   "cell_type": "code",
   "execution_count": null,
   "id": "7b95a320-7a0b-414b-9314-1d7ded3a0c49",
   "metadata": {},
   "outputs": [],
   "source": []
  },
  {
   "cell_type": "code",
   "execution_count": null,
   "id": "a33ab6bf-adf7-444c-9762-135f6dc9d4b1",
   "metadata": {},
   "outputs": [],
   "source": []
  },
  {
   "cell_type": "code",
   "execution_count": null,
   "id": "10b1b1c8-084f-4338-87b3-43ad25b1d065",
   "metadata": {},
   "outputs": [],
   "source": []
  },
  {
   "cell_type": "code",
   "execution_count": null,
   "id": "6f6ba261-41d0-4cd8-bf85-625b8f925b58",
   "metadata": {},
   "outputs": [],
   "source": []
  },
  {
   "cell_type": "code",
   "execution_count": null,
   "id": "a4eaf2d3-69c7-4bb5-899e-c338878707ae",
   "metadata": {},
   "outputs": [],
   "source": []
  },
  {
   "cell_type": "code",
   "execution_count": null,
   "id": "18cc0253-a937-4712-a5bd-aaabcf4164bb",
   "metadata": {},
   "outputs": [],
   "source": []
  },
  {
   "cell_type": "code",
   "execution_count": 97,
   "id": "1eddd0a7-b0b3-4562-a301-82db6c6924ca",
   "metadata": {},
   "outputs": [
    {
     "name": "stdout",
     "output_type": "stream",
     "text": [
      "1\n"
     ]
    }
   ],
   "source": [
    "print(1)"
   ]
  },
  {
   "cell_type": "markdown",
   "id": "e7692d6c",
   "metadata": {},
   "source": [
    "# AUC and Recall "
   ]
  },
  {
   "cell_type": "code",
   "execution_count": null,
   "id": "9fb11ff8-5a50-47d0-9b9c-638f793c6e79",
   "metadata": {},
   "outputs": [],
   "source": []
  },
  {
   "cell_type": "code",
   "execution_count": 12,
   "id": "39b4915e",
   "metadata": {},
   "outputs": [
    {
     "name": "stdout",
     "output_type": "stream",
     "text": [
      "identity AUC: 0.772/0.173\n",
      "proposed AUC: 1.000/0.001\n"
     ]
    }
   ],
   "source": [
    "import numpy as np\n",
    "import pandas as pd\n",
    "from sklearn.metrics import roc_auc_score\n",
    "\n",
    "identity_df=influence_engine.IF_dict['identity']\n",
    "proposed_df=influence_engine.IF_dict['proposed']\n",
    "\n",
    "n_train, n_val = 900, 100\n",
    "n_sample_per_class = 90 \n",
    "n_class = 10\n",
    "\n",
    "identity_auc_list, proposed_auc_list=[], []\n",
    "for i in range(n_val):\n",
    "    gt_array=np.zeros(n_train)\n",
    "    gt_array[(i//n_class)*n_sample_per_class:((i//n_class)+1)*n_sample_per_class]=1\n",
    "    \n",
    "    # The influence function is anticipated to have a big negative value when its class equals to a validation data point. \n",
    "    # This is because a data point with the same class is likely to be more helpful in minimizing the validation loss.\n",
    "    # Thus, we multiply the influence function value by -1 to account for alignment with the gt_array. \n",
    "    identity_auc_list.append(roc_auc_score(gt_array, -(identity_df.iloc[i,:].to_numpy())))\n",
    "    proposed_auc_list.append(roc_auc_score(gt_array, -(proposed_df.iloc[i,:].to_numpy())))\n",
    "    \n",
    "print(f'identity AUC: {np.mean(identity_auc_list):.3f}/{np.std(identity_auc_list):.3f}')\n",
    "print(f'proposed AUC: {np.mean(proposed_auc_list):.3f}/{np.std(proposed_auc_list):.3f}')"
   ]
  },
  {
   "cell_type": "code",
   "execution_count": null,
   "id": "ae1da851",
   "metadata": {},
   "outputs": [],
   "source": []
  },
  {
   "cell_type": "code",
   "execution_count": 13,
   "id": "baa20253",
   "metadata": {},
   "outputs": [
    {
     "name": "stdout",
     "output_type": "stream",
     "text": [
      "identity Recall: 0.258/0.388\n",
      "proposed Recall: 0.996/0.025\n"
     ]
    }
   ],
   "source": [
    "# Recall calculations\n",
    "identity_recall_list, proposed_recall_list=[], []\n",
    "for i in range(n_val):\n",
    "    correct_label = i // 10\n",
    "\n",
    "    # Similar to AUC computation, we consider the first 90 data points with the smallest influence function values \n",
    "    # These data points with the smallest influence function values likely have the same class with the validation data point.\n",
    "    sorted_labels = np.argsort(identity_df.iloc[i].values)// 90 \n",
    "    recall_identity = np.count_nonzero(sorted_labels[0:90] == correct_label) / 90.0\n",
    "    identity_recall_list.append(recall_identity)\n",
    "    \n",
    "    sorted_labels = np.argsort(proposed_df.iloc[i].values)// 90 \n",
    "    recall_proposed = np.count_nonzero(sorted_labels[0:90] == correct_label) / 90.0\n",
    "    proposed_recall_list.append(recall_proposed)\n",
    "    \n",
    "print(f'identity Recall: {np.mean(identity_recall_list):.3f}/{np.std(identity_recall_list):.3f}')\n",
    "print(f'proposed Recall: {np.mean(proposed_recall_list):.3f}/{np.std(proposed_recall_list):.3f}')"
   ]
  },
  {
   "cell_type": "code",
   "execution_count": null,
   "id": "c0f4fab8",
   "metadata": {},
   "outputs": [],
   "source": [
    "import matplotlib.pyplot as plt"
   ]
  },
  {
   "cell_type": "code",
   "execution_count": 190,
   "id": "0d516778-2767-4929-afb1-2decd7790ba3",
   "metadata": {},
   "outputs": [
    {
     "data": {
      "image/png": "[encoded data removed]",
      "text/plain": [
       "<Figure size 2000x400 with 2 Axes>"
      ]
     },
     "metadata": {},
     "output_type": "display_data"
    }
   ],
   "source": [
    "plt.figure(figsize=(20,4))\n",
    "plt.imshow(np.array(influence_engine.IF_dict['identity'])[:, :300], cmap='coolwarm')\n",
    "plt.colorbar()\n",
    "plt.xlabel('train samples (first 300)')\n",
    "plt.ylabel('val samples')\n",
    "plt.title('IF')\n",
    "plt.show()"
   ]
  },
  {
   "cell_type": "code",
   "execution_count": 141,
   "id": "59187eae-3ceb-449f-8667-60d29b8bf935",
   "metadata": {},
   "outputs": [],
   "source": [
    "relevant_idx = [i for i in range(len(lora_engine.train_dataset)) if 'Zhang Lei' in lora_engine.train_dataset[i]['prompt']]"
   ]
  },
  {
   "cell_type": "code",
   "execution_count": 112,
   "id": "dbd3f58a-fc71-4190-866f-aff96111e591",
   "metadata": {},
   "outputs": [
    {
     "data": {
      "image/png": "[encoded data removed]",
      "text/plain": [
       "<Figure size 640x480 with 1 Axes>"
      ]
     },
     "metadata": {},
     "output_type": "display_data"
    }
   ],
   "source": [
    "plt.hist(influences, bins=100, density=True)\n",
    "plt.ylabel('frequency')\n",
    "plt.xlabel('IF')\n",
    "plt.xlim(-350, 0)\n",
    "plt.title('all training samples')\n",
    "plt.show()"
   ]
  },
  {
   "cell_type": "code",
   "execution_count": 191,
   "id": "1791c3f6-db41-4772-89d9-25ea39d6728d",
   "metadata": {},
   "outputs": [
    {
     "data": {
      "image/png": "[encoded data removed]",
      "text/plain": [
       "<Figure size 640x480 with 1 Axes>"
      ]
     },
     "metadata": {},
     "output_type": "display_data"
    }
   ],
   "source": [
    "plt.hist([influences[i] for i in relevant_idx], bins=100, density=True)\n",
    "plt.ylabel('frequency')\n",
    "plt.xlabel('IF')\n",
    "plt.xlim(-350, 0)\n",
    "plt.title('training samples that contains \"Zhang Lei\"')\n",
    "plt.show()"
   ]
  },
  {
   "cell_type": "code",
   "execution_count": null,
   "id": "a61c4501-263a-4d3f-bb1e-72d0e2381a7d",
   "metadata": {},
   "outputs": [],
   "source": []
  },
  {
   "cell_type": "code",
   "execution_count": null,
   "id": "033dab90-b8cf-45a7-b974-fbd1df995547",
   "metadata": {},
   "outputs": [],
   "source": []
  },
  {
   "cell_type": "markdown",
   "id": "2134479f-1249-4ba4-8f1e-fef1e1ea86d1",
   "metadata": {},
   "source": [
    "# RAG"
   ]
  },
  {
   "cell_type": "code",
   "execution_count": 144,
   "id": "60ddc660-f0db-4003-9163-11eab7142cf8",
   "metadata": {},
   "outputs": [],
   "source": [
    "from transformers import AutoModelForCausalLM, AutoTokenizer\n",
    "\n",
    "MODEL_NAME = \"meta-llama/Meta-Llama-3.2-1B\"  # Change based on your model\n",
    "\n",
    "# Load the model and tokenizer\n",
    "tokenizer = AutoTokenizer.from_pretrained(base_path)\n",
    "model = AutoModelForCausalLM.from_pretrained(base_path)"
   ]
  },
  {
   "cell_type": "code",
   "execution_count": null,
   "id": "64334ddc-5144-4cb6-ac3d-f0e62d86ef9f",
   "metadata": {},
   "outputs": [],
   "source": []
  },
  {
   "cell_type": "code",
   "execution_count": 195,
   "id": "8ce27d97-533d-4d9f-a128-187c4c4b6351",
   "metadata": {},
   "outputs": [
    {
     "name": "stderr",
     "output_type": "stream",
     "text": [
      "Setting `pad_token_id` to `eos_token_id`:128001 for open-end generation.\n"
     ]
    },
    {
     "name": "stdout",
     "output_type": "stream",
     "text": [
      "Generated Answer:\n",
      " Context: Zhang Lei is a Chinese former international table tennis player.\n",
      "\n",
      "He won two silver medal's at the 1993 World Table Tennis Championships in the team event and in the men's doubles with Ma Wenge.\n",
      "\n",
      "Question: What profession or job is associated with Zhang Lei?\n",
      "Answer: He was a table tennis player.\n",
      "\n",
      "Source: https://en.wikipedia.org/wiki/Zhang_Lei\n"
     ]
    }
   ],
   "source": [
    "def generate_answer(question, context=\"\"):\n",
    "    \"\"\"Generates an answer using the fine-tuned LLaMA model.\"\"\"\n",
    "    input_text = f\"Context: {context}\\n\\nQuestion: {question}\\nAnswer:\"\n",
    "    \n",
    "    # Tokenize input\n",
    "    inputs = tokenizer(input_text, return_tensors=\"pt\")\n",
    "\n",
    "    # Generate response\n",
    "    output = model.generate(**inputs, max_new_tokens=100)\n",
    "    \n",
    "    return tokenizer.decode(output[0], skip_special_tokens=True)\n",
    "\n",
    "# Example question\n",
    "question = \"What profession or job is associated with Zhang Lei?\"\n",
    "context = \"Zhang Lei is a Chinese former international table tennis player.\\n\\nHe won two silver medal's at the 1993 World Table Tennis Championships in the team event and in the men's doubles with Ma Wenge.\"\n",
    "\n",
    "answer = generate_answer(question, context)\n",
    "print(\"Generated Answer:\\n\", answer)\n"
   ]
  },
  {
   "cell_type": "code",
   "execution_count": 162,
   "id": "f0298164-13ee-4d3b-9ca8-a3a43970e5dd",
   "metadata": {},
   "outputs": [
    {
     "name": "stdout",
     "output_type": "stream",
     "text": [
      "len 5152\n",
      "new len 51\n"
     ]
    },
    {
     "name": "stderr",
     "output_type": "stream",
     "text": [
      "100%|███████████████████████████████████████████████████████████████████████████████████████████████████████████████████| 51/51 [00:00<00:00, 11187.15it/s]\n"
     ]
    }
   ],
   "source": [
    "import json\n",
    "import pandas as pd\n",
    "from datasets import Dataset\n",
    "from sklearn.model_selection import train_test_split\n",
    "from tqdm import tqdm\n",
    "\n",
    "# Load the JSON file\n",
    "with open(\"/home/fymeng/influence/WhoQA/WhoQA.json\", \"r\", encoding=\"utf-8\") as file:\n",
    "    data = json.load(file)\n",
    "\n",
    "# Prepare a list for Hugging Face dataset format\n",
    "hf_data = []\n",
    "\n",
    "print('len', len(data))\n",
    "data = data[:len(data) // 100]\n",
    "print('new len', len(data))\n",
    "\n",
    "for entry in tqdm(data):\n",
    "    question_list = entry[\"questions\"]\n",
    "    contexts = entry[\"contexts\"]\n",
    "    answers_by_context = entry[\"answer_by_context\"]\n",
    "\n",
    "    for i, context in enumerate(contexts):\n",
    "        if str(i) in answers_by_context:\n",
    "            for answer_list in answers_by_context[str(i)]:\n",
    "                for answer in answer_list:\n",
    "                    for question in question_list:\n",
    "                        entry = {\n",
    "                            \"prompt\": question,\n",
    "                            \"context\": context[\"candidate_texts\"],\n",
    "                            \"answer\": answer,\n",
    "                            # \"answer_start\": context[\"candidate_texts\"].find(answer),\n",
    "                            # \"id\": entry[\"q_id\"]\n",
    "                        }\n",
    "\n",
    "                        hf_data.append(entry)\n",
    "\n",
    "# Convert to Pandas DataFrame\n",
    "df = pd.DataFrame(hf_data)\n",
    "\n",
    "# Split into train (80%) and test (20%) sets\n",
    "train_df, test_df = train_test_split(df, test_size=0.2, random_state=42)\n",
    "\n",
    "# Convert to Hugging Face Datasets\n",
    "train_dataset = Dataset.from_pandas(train_df)\n",
    "test_dataset = Dataset.from_pandas(test_df)\n",
    "\n",
    "documents = [item['context'] for item in train_dataset]\n",
    "documents = list(set(documents))"
   ]
  },
  {
   "cell_type": "code",
   "execution_count": 163,
   "id": "0b43d1ed-3ae6-4c23-953a-02f755b0ff5f",
   "metadata": {},
   "outputs": [],
   "source": [
    "import faiss\n",
    "import numpy as np\n",
    "from sentence_transformers import SentenceTransformer\n",
    "\n",
    "# Use a Sentence Transformer to encode text into embeddings\n",
    "embedding_model = SentenceTransformer(\"sentence-transformers/all-MiniLM-L6-v2\")\n",
    "\n",
    "# Initialize FAISS index\n",
    "dimension = embedding_model.get_sentence_embedding_dimension()\n",
    "index = faiss.IndexFlatL2(dimension)  # L2 distance metric\n",
    "\n",
    "# Compute embeddings and add them to the FAISS index\n",
    "doc_embeddings = np.array(embedding_model.encode(documents))\n",
    "index.add(doc_embeddings)"
   ]
  },
  {
   "cell_type": "code",
   "execution_count": 194,
   "id": "4a58fafb-9d4c-4407-bbdc-b0a7695b2663",
   "metadata": {},
   "outputs": [
    {
     "name": "stdout",
     "output_type": "stream",
     "text": [
      "================\n",
      "Zhang Lei (born 23 March 1979 in Nanjing, Jiangsu) is a female Chinese foil fencer. She competed at the 2000 and 2008 Summer Olympics.\n",
      "\n",
      "Major performances\n",
      "2002 Asian Games - 1st foil;\n",
      "2008 World Cup Germany - 1st foil\n",
      "================\n",
      "Zhang Lei (born May 9, 1988, Anshan) is a Chinese female water polo player. She was part of the Chinese team that won silver at the 2011 World Championships.  At the 2012 Summer Olympics, she competed for the China women's national water polo team in the women's event. She is 5 ft 7 inches tall.\n",
      "================\n",
      "Zhang Lei is a Chinese former international table tennis player.\n",
      "\n",
      "He won two silver medal's at the 1993 World Table Tennis Championships in the team event and in the men's doubles with Ma Wenge.\n",
      "================\n",
      "Zhang Yu (born 25 September 1995) is a Chinese female volleyball player. She is part of the China women's national volleyball team.\n",
      "She participated in the 2015 FIVB Volleyball World Grand Prix.\n",
      "On club level she played for Beijing BAW in 2015.\n",
      "\n",
      " Clubs \n",
      "\n",
      "  Beijing BAW\n",
      "================\n",
      "Zhang Yu (born 19 April 2000) is a Chinese sports shooter.\n"
     ]
    }
   ],
   "source": [
    "def retrieve_context(question, top_k=5):\n",
    "    \"\"\"Retrieve the top-k most relevant documents for a given question.\"\"\"\n",
    "    question_embedding = np.array(embedding_model.encode([question]))  # Encode question\n",
    "    _, top_indices = index.search(question_embedding, top_k)  # Search FAISS index\n",
    "    \n",
    "    # Get the retrieved documents\n",
    "    retrieved_docs = [documents[i] for i in top_indices[0]]\n",
    "    return retrieved_docs\n",
    "\n",
    "# Test retrieval\n",
    "question = \"What profession or job is associated with Zhang Lei?\"\n",
    "retrieved_context = retrieve_context(question)\n",
    "for i in range(len(retrieved_context)):\n",
    "    print('=' * 16)\n",
    "    print(retrieved_context[i])"
   ]
  },
  {
   "cell_type": "code",
   "execution_count": null,
   "id": "d5b1f6dd-75ba-435e-8c57-3fac2521467f",
   "metadata": {},
   "outputs": [],
   "source": []
  }
 ],
 "metadata": {
  "kernelspec": {
   "display_name": "Python 3 (ipykernel)",
   "language": "python",
   "name": "python3"
  },
  "language_info": {
   "codemirror_mode": {
    "name": "ipython",
    "version": 3
   },
   "file_extension": ".py",
   "mimetype": "text/x-python",
   "name": "python",
   "nbconvert_exporter": "python",
   "pygments_lexer": "ipython3",
   "version": "3.10.16"
  }
 },
 "nbformat": 4,
 "nbformat_minor": 5
}
